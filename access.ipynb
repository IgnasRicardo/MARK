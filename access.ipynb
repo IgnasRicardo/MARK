{
 "cells": [
  {
   "cell_type": "code",
   "execution_count": 27,
   "id": "5ced9f8c-8cd4-4c50-99d5-6722ba17bed8",
   "metadata": {},
   "outputs": [
    {
     "name": "stdin",
     "output_type": "stream",
     "text": [
      "do you have a pass yes\n"
     ]
    },
    {
     "name": "stdout",
     "output_type": "stream",
     "text": [
      "Access_granted\n"
     ]
    }
   ],
   "source": [
    "# gate pass\n",
    "Question = str(input(\"do you have a pass\"))\n",
    "if Question == yes: \n",
    "    print (\"Access_granted\")\n",
    "else:\n",
    "    print (\"Access_denied\")\n",
    "\n"
   ]
  },
  {
   "cell_type": "code",
   "execution_count": null,
   "id": "277d9b64-b63a-461e-91f5-0b47d32a11fd",
   "metadata": {},
   "outputs": [],
   "source": []
  }
 ],
 "metadata": {
  "kernelspec": {
   "display_name": "Python 3 (ipykernel)",
   "language": "python",
   "name": "python3"
  },
  "language_info": {
   "codemirror_mode": {
    "name": "ipython",
    "version": 3
   },
   "file_extension": ".py",
   "mimetype": "text/x-python",
   "name": "python",
   "nbconvert_exporter": "python",
   "pygments_lexer": "ipython3",
   "version": "3.12.7"
  }
 },
 "nbformat": 4,
 "nbformat_minor": 5
}
