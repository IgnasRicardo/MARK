{
 "cells": [
  {
   "cell_type": "code",
   "execution_count": 19,
   "id": "7b8a4ec9-134a-4501-9363-b04a776d4680",
   "metadata": {},
   "outputs": [
    {
     "name": "stdout",
     "output_type": "stream",
     "text": [
      "Donbosco Kiitec\n",
      "o\n",
      "c\n",
      "DONBOSCO KIITEC\n"
     ]
    }
   ],
   "source": [
    "x = \"Donbosco Kiitec\"\n",
    "print (x)\n",
    "print(x[4])\n",
    "print (x[-1])\n",
    "print(x.upper())"
   ]
  },
  {
   "cell_type": "code",
   "execution_count": 22,
   "id": "dbe1ded6-744a-48cf-895e-3030bd84c95e",
   "metadata": {},
   "outputs": [
    {
     "name": "stdout",
     "output_type": "stream",
     "text": [
      "0 5 0\n"
     ]
    }
   ],
   "source": [
    "x = 0\n",
    "y = 5\n",
    "z = 0\n",
    "print (x,y,z)"
   ]
  },
  {
   "cell_type": "code",
   "execution_count": 29,
   "id": "019a5c6a-8335-4cfd-9e2c-5eebad2a4c42",
   "metadata": {},
   "outputs": [
    {
     "name": "stdout",
     "output_type": "stream",
     "text": [
      "I am 20\n"
     ]
    }
   ],
   "source": [
    "# Intergers with strings\n",
    "y = \"20\"\n",
    "print (\"I am \" + y)"
   ]
  },
  {
   "cell_type": "code",
   "execution_count": 30,
   "id": "0ecbfd93-4609-43fe-a6fe-75ffd9804844",
   "metadata": {},
   "outputs": [
    {
     "name": "stdout",
     "output_type": "stream",
     "text": [
      "I am 20\n"
     ]
    }
   ],
   "source": [
    "age = 20\n",
    "print (\"I am \" + str(age))"
   ]
  },
  {
   "cell_type": "code",
   "execution_count": 32,
   "id": "74037f3e-c86a-4147-8ed1-a0e71edc489b",
   "metadata": {},
   "outputs": [
    {
     "name": "stdout",
     "output_type": "stream",
     "text": [
      "30.0\n"
     ]
    }
   ],
   "source": [
    "x = 30\n",
    "y = float(x)\n",
    "print (y)"
   ]
  },
  {
   "cell_type": "code",
   "execution_count": 36,
   "id": "161ed95d-a14d-4cd1-8c3a-21a514aa2e22",
   "metadata": {},
   "outputs": [
    {
     "name": "stdout",
     "output_type": "stream",
     "text": [
      "<class 'float'>\n",
      "<class 'str'>\n",
      "<class 'int'>\n"
     ]
    }
   ],
   "source": [
    "x = 35e3\n",
    "y = \"12e4\"\n",
    "m = 26\n",
    "print (type(x))\n",
    "print (type(y))\n",
    "print (type(m))\n"
   ]
  },
  {
   "cell_type": "code",
   "execution_count": 39,
   "id": "ea718336-8173-45da-94e4-3ed9eb22b926",
   "metadata": {},
   "outputs": [
    {
     "name": "stdout",
     "output_type": "stream",
     "text": [
      "3.0\n",
      "4.0\n"
     ]
    }
   ],
   "source": [
    "z = 3+4j\n",
    "print (z.real)\n",
    "print (z.imag)"
   ]
  },
  {
   "cell_type": "code",
   "execution_count": 44,
   "id": "d05a027e-12e3-4bc6-af15-3df3fe6831de",
   "metadata": {},
   "outputs": [
    {
     "name": "stdout",
     "output_type": "stream",
     "text": [
      "K\n",
      "i\n"
     ]
    }
   ],
   "source": [
    "x = \"Kiitec\"\n",
    "print (x[0])\n",
    "print (x[2])"
   ]
  },
  {
   "cell_type": "code",
   "execution_count": 46,
   "id": "73dac5b1-05b9-4fe1-951d-efbfa59eee02",
   "metadata": {},
   "outputs": [
    {
     "name": "stdout",
     "output_type": "stream",
     "text": [
      "['apple', 'mango', 'cherry']\n"
     ]
    }
   ],
   "source": [
    "# Replace command\n",
    "x = [\"apple\", \"banana\", \"cherry\"]\n",
    "x[1] = \"mango\"\n",
    "print (x)"
   ]
  },
  {
   "cell_type": "code",
   "execution_count": 48,
   "id": "d15e4493-ef7d-4f95-ab80-50b0d5aaf1a5",
   "metadata": {},
   "outputs": [
    {
     "name": "stdout",
     "output_type": "stream",
     "text": [
      "apple\n",
      "cherry\n",
      "cherry\n"
     ]
    }
   ],
   "source": [
    "x = [\"apple\", \"banana\", \"cherry\"]\n",
    "print (x[0])\n",
    "print (x[-1])\n",
    "print (x[2])"
   ]
  },
  {
   "cell_type": "code",
   "execution_count": 50,
   "id": "9545a6ed-9b7c-4335-8b4b-d2b02202ca5e",
   "metadata": {},
   "outputs": [
    {
     "name": "stdout",
     "output_type": "stream",
     "text": [
      "['apple', 'banana', 'cherry', 'grape']\n"
     ]
    }
   ],
   "source": [
    "# Add command\n",
    "x = [\"apple\", \"banana\", \"cherry\"]\n",
    "x.append(\"grape\")\n",
    "print (x)"
   ]
  },
  {
   "cell_type": "code",
   "execution_count": 51,
   "id": "cf16d20d-34e5-439a-897a-cc846c536cfd",
   "metadata": {},
   "outputs": [
    {
     "name": "stdout",
     "output_type": "stream",
     "text": [
      "['apple', 'banana']\n"
     ]
    }
   ],
   "source": [
    "# Remove the last item\n",
    "x = [\"apple\", \"banana\", \"cherry\"]\n",
    "x.pop()\n",
    "print (x)"
   ]
  },
  {
   "cell_type": "code",
   "execution_count": 52,
   "id": "46e51535-a29c-4371-85bd-ce977cdba84d",
   "metadata": {},
   "outputs": [
    {
     "name": "stdout",
     "output_type": "stream",
     "text": [
      "['apple', 'cherry']\n"
     ]
    }
   ],
   "source": [
    "# Remove command\n",
    "x = [\"apple\", \"banana\", \"cherry\"]\n",
    "x.remove(\"banana\")\n",
    "print (x)"
   ]
  },
  {
   "cell_type": "code",
   "execution_count": 53,
   "id": "64ed1a6c-dd3c-4e75-9b6b-29143a0ba1dd",
   "metadata": {},
   "outputs": [
    {
     "name": "stdout",
     "output_type": "stream",
     "text": [
      "['banana', 'cherry']\n"
     ]
    }
   ],
   "source": [
    "# Delete command\n",
    "x = [\"apple\", \"banana\", \"cherry\"]\n",
    "del x[0]\n",
    "print (x)"
   ]
  },
  {
   "cell_type": "code",
   "execution_count": 55,
   "id": "c23c906a-5caa-4fcc-848c-81b3a9fcd0be",
   "metadata": {},
   "outputs": [
    {
     "name": "stdout",
     "output_type": "stream",
     "text": [
      "('apple', 'banana', 'cherry')\n"
     ]
    }
   ],
   "source": [
    "# Truple () List[] command\n",
    "x = (\"apple\", \"banana\", \"cherry\")\n",
    "print (x)"
   ]
  },
  {
   "cell_type": "code",
   "execution_count": 65,
   "id": "d3b10d12-d43b-4fc9-9440-6a55b548fbbb",
   "metadata": {},
   "outputs": [
    {
     "name": "stdout",
     "output_type": "stream",
     "text": [
      "Donbosco KiitecArusha\n"
     ]
    },
    {
     "data": {
      "text/plain": [
       "'Donbosco Kiitec Arusha'"
      ]
     },
     "execution_count": 65,
     "metadata": {},
     "output_type": "execute_result"
    }
   ],
   "source": [
    "x = \"Donbosco Kiitec\"\n",
    "y = \"Arusha\"\n",
    "print (x+ y)\n",
    "x +  \" Arusha\""
   ]
  },
  {
   "cell_type": "code",
   "execution_count": 66,
   "id": "4ed9e8d0-f7e4-4e86-ba59-e0d1dd87480c",
   "metadata": {},
   "outputs": [
    {
     "name": "stdout",
     "output_type": "stream",
     "text": [
      "['apple', 'kiwi', 'banana', 'cherry']\n"
     ]
    }
   ],
   "source": [
    "x = [\"apple\", \"banana\", \"cherry\"]\n",
    "x.insert(1, \"kiwi\")\n",
    "print (x)"
   ]
  },
  {
   "cell_type": "code",
   "execution_count": 3,
   "id": "b378ed8a-fa6d-4969-8596-000a3f7d7c14",
   "metadata": {},
   "outputs": [
    {
     "name": "stdout",
     "output_type": "stream",
     "text": [
      "DB KiitecArusha\n"
     ]
    },
    {
     "data": {
      "text/plain": [
       "'DB Kiitec Arusha'"
      ]
     },
     "execution_count": 3,
     "metadata": {},
     "output_type": "execute_result"
    }
   ],
   "source": [
    "x = \"DB Kiitec\"\n",
    "y = \"Arusha\"\n",
    "print (x + y)\n",
    "x + \" Arusha\""
   ]
  },
  {
   "cell_type": "code",
   "execution_count": 6,
   "id": "6d69ee05-fd8d-431c-b8e6-2423f419c307",
   "metadata": {},
   "outputs": [
    {
     "name": "stdin",
     "output_type": "stream",
     "text": [
      "Enter l 90\n",
      "Enter w 90\n"
     ]
    },
    {
     "name": "stdout",
     "output_type": "stream",
     "text": [
      "8100\n"
     ]
    }
   ],
   "source": [
    "#Rectangle (l & w)\n",
    "l =int(input(\"Enter l\"))\n",
    "w =int(input(\"Enter w\"))\n",
    "A =l*w\n",
    "print(A)\n"
   ]
  },
  {
   "cell_type": "code",
   "execution_count": 11,
   "id": "9a84e180-6398-4afe-b971-bbc13f381dd0",
   "metadata": {},
   "outputs": [
    {
     "name": "stdin",
     "output_type": "stream",
     "text": [
      "enter b 12\n",
      "enter h 10\n"
     ]
    },
    {
     "name": "stdout",
     "output_type": "stream",
     "text": [
      "60.0\n"
     ]
    }
   ],
   "source": [
    "#Triamgle\n",
    "b = int(input(\"enter b\"))\n",
    "h = int(input(\"enter h\"))\n",
    "A = 1/2*b*h\n",
    "print(A)"
   ]
  },
  {
   "cell_type": "code",
   "execution_count": 18,
   "id": "0afe23ec-aaac-4088-9d61-8f9db22638d5",
   "metadata": {},
   "outputs": [
    {
     "name": "stdin",
     "output_type": "stream",
     "text": [
      "enter d1 12\n",
      "enter d2 12\n"
     ]
    },
    {
     "name": "stdout",
     "output_type": "stream",
     "text": [
      "72.0\n"
     ]
    }
   ],
   "source": [
    "#Polgon\n",
    "d1 = int(input(\"enter d1\"))\n",
    "d2 = int(input(\"enter d2\"))\n",
    "A = 1/2*d1*d2\n",
    "print(A)"
   ]
  },
  {
   "cell_type": "code",
   "execution_count": 13,
   "id": "545c9168-99dc-4ff4-b571-e2676ad12feb",
   "metadata": {},
   "outputs": [
    {
     "name": "stdin",
     "output_type": "stream",
     "text": [
      "enter a 12\n",
      "enter b 12\n",
      "enter h 10\n"
     ]
    },
    {
     "name": "stdout",
     "output_type": "stream",
     "text": [
      "120.0\n"
     ]
    }
   ],
   "source": [
    "#Trapezium\n",
    "a = int(input(\"enter a\"))\n",
    "b = int(input(\"enter b\"))\n",
    "h = int(input(\"enter h\"))\n",
    "A = 1/2*(a+b)*h\n",
    "print(A)"
   ]
  },
  {
   "cell_type": "code",
   "execution_count": 39,
   "id": "d305a2c8-16cb-4b51-af09-26b5db4e0188",
   "metadata": {},
   "outputs": [
    {
     "name": "stdin",
     "output_type": "stream",
     "text": [
      "enter r 7\n"
     ]
    },
    {
     "name": "stdout",
     "output_type": "stream",
     "text": [
      "153.93804002589985\n"
     ]
    }
   ],
   "source": [
    "#Circle\n",
    "r = float(input(\"enter r\"))\n",
    "import math\n",
    "A = math.pi*r**2\n",
    "print(A)"
   ]
  },
  {
   "cell_type": "code",
   "execution_count": 21,
   "id": "6cf085b9-411b-40d0-a407-b3d5d191c5f9",
   "metadata": {},
   "outputs": [
    {
     "name": "stdin",
     "output_type": "stream",
     "text": [
      "enter r 7\n",
      "enter l 14\n"
     ]
    },
    {
     "name": "stdout",
     "output_type": "stream",
     "text": [
      "461.58\n"
     ]
    }
   ],
   "source": [
    "#Total surface area of a Cone\n",
    "r = int(input(\"enter r\"))\n",
    "l = int(input(\"enter l\"))\n",
    "A = 3.14*r*(r+l)\n",
    "print(A)"
   ]
  },
  {
   "cell_type": "code",
   "execution_count": 29,
   "id": "23fc1a66-1913-49b0-a8e9-ffb176e6b292",
   "metadata": {},
   "outputs": [
    {
     "name": "stdin",
     "output_type": "stream",
     "text": [
      "enter r 7\n",
      "enter h 14\n"
     ]
    },
    {
     "name": "stdout",
     "output_type": "stream",
     "text": [
      "923.16\n"
     ]
    }
   ],
   "source": [
    "#Total surface area of a Cylinder \n",
    "r = int(input(\"enter r\"))\n",
    "h = int(input(\"enter h\"))\n",
    "A = 2*3.14*r*(r+h)\n",
    "print(A)"
   ]
  },
  {
   "cell_type": "code",
   "execution_count": 37,
   "id": "26d3274c-03f6-4323-a9c1-2b85aa46cfa7",
   "metadata": {},
   "outputs": [
    {
     "name": "stdout",
     "output_type": "stream",
     "text": [
      "78.5\n"
     ]
    }
   ],
   "source": [
    "#Total surface area of a Cylinder \n",
    "r = 5\n",
    "Area = 3.14*(r**2)\n",
    "print(Area)"
   ]
  },
  {
   "cell_type": "code",
   "execution_count": 12,
   "id": "7e3303e6-a513-474a-9aef-f3c6b9aa7584",
   "metadata": {},
   "outputs": [
    {
     "name": "stdin",
     "output_type": "stream",
     "text": [
      "Enter a number:  5\n"
     ]
    },
    {
     "name": "stdout",
     "output_type": "stream",
     "text": [
      "The number is Odd\n"
     ]
    }
   ],
   "source": [
    "#Even or Odd number\n",
    "num = int(input(\"Enter a number: \"))\n",
    "if num % 2 == 0:\n",
    "    print(\"The number is Even\")\n",
    "else:\n",
    "    print(\"The number is Odd\")\n",
    "    \n"
   ]
  },
  {
   "cell_type": "code",
   "execution_count": 1,
   "id": "a40573ab-82af-484e-8ba9-e7e3266bf372",
   "metadata": {},
   "outputs": [
    {
     "name": "stdin",
     "output_type": "stream",
     "text": [
      "Enter a number:  -4\n"
     ]
    },
    {
     "name": "stdout",
     "output_type": "stream",
     "text": [
      "Negative number\n"
     ]
    }
   ],
   "source": [
    "#Check if a Number is positive, Negative or Zero\n",
    "num = float(input(\"Enter a number: \"))\n",
    "if num > 0:\n",
    "    print(\"Positive number\")\n",
    "elif num == 0:\n",
    "    print(\"Zero\")\n",
    "else:\n",
    "    print(\"Negative number\")     "
   ]
  },
  {
   "cell_type": "code",
   "execution_count": 2,
   "id": "e26cdeb7-b821-4437-9fbe-923a8758a632",
   "metadata": {},
   "outputs": [
    {
     "name": "stdin",
     "output_type": "stream",
     "text": [
      "Enter your marks:  80\n"
     ]
    },
    {
     "name": "stdout",
     "output_type": "stream",
     "text": [
      "You passed!\n"
     ]
    }
   ],
   "source": [
    "#Simple Pass or Fail check\n",
    "marks = int(input(\"Enter your marks: \"))\n",
    "if marks >=50:\n",
    "    print(\"You passed!\")\n",
    "else:\n",
    "    print(\"You failed.\")"
   ]
  },
  {
   "cell_type": "code",
   "execution_count": 7,
   "id": "dd5deaef-9cbb-4ad2-9ac5-57f597b5eebb",
   "metadata": {},
   "outputs": [
    {
     "name": "stdin",
     "output_type": "stream",
     "text": [
      "Enter your marks:  65\n"
     ]
    },
    {
     "name": "stdout",
     "output_type": "stream",
     "text": [
      "Grade B\n",
      "Grade C\n"
     ]
    }
   ],
   "source": [
    "#Simple Pass or Fail check\n",
    "marks = int(input(\"Please enter your marks (0-100): \"))\n",
    "if marks >=90:\n",
    "    grade = \"A\"\n",
    "elif:\n",
    "    if marks >= 80:\n",
    "        grade = \"B\"\n",
    "        elif:\n",
    "        if marks >= 70:\n",
    "        grade = \"C\"\n",
    "    \n",
    "    print(\"Grade \"A\")\n",
    "if marks >=65:\n",
    "    print(\"Grade \"B\")\n",
    "if marks >=50:\n",
    "    print(\"Grade C\")\n",
    "    "
   ]
  },
  {
   "cell_type": "code",
   "execution_count": 17,
   "id": "214f43be-24e0-4f7f-9333-d2c405cf4512",
   "metadata": {},
   "outputs": [
    {
     "name": "stdin",
     "output_type": "stream",
     "text": [
      "Please enter your marks (0-100):  85\n"
     ]
    },
    {
     "name": "stdout",
     "output_type": "stream",
     "text": [
      "Invalid marks. Please enter your value between 0 and 100.\n",
      "Invalid input. Please enter a numeric value.\n"
     ]
    }
   ],
   "source": [
    "#Simple Pass or Fail check\n",
    "marks = int(input(\"Please enter your marks (0-100): \"))\n",
    "if 0<= marks <= 100:\n",
    "    if marks >= 90:\n",
    "        grade = \"A\"\n",
    "    elif marks >= 80:\n",
    "        grade = \"B\"\n",
    "    elif marks >= 70:\n",
    "        grade = \"C\"\n",
    "    elif marks >=60:\n",
    "        grade = \"D\"\n",
    "    else:\n",
    "        grade = \"F\"\n",
    "        print(\"Grade:\", grade)\n",
    "    print(\"Invalid marks. Please enter your value between 0 and 100.\")\n",
    "print(\"Invalid input. Please enter a numeric value.\")\n",
    "        "
   ]
  },
  {
   "cell_type": "code",
   "execution_count": 17,
   "id": "ce7caa97-2e3b-4805-af87-45dffb37e24f",
   "metadata": {},
   "outputs": [
    {
     "name": "stdin",
     "output_type": "stream",
     "text": [
      "Please enter your marks (0-100):  85\n"
     ]
    },
    {
     "name": "stdout",
     "output_type": "stream",
     "text": [
      "Invalid marks. Please enter your value between 0 and 100.\n",
      "Invalid input. Please enter a numeric value.\n"
     ]
    }
   ],
   "source": [
    "#Simple Pass or Fail check\n",
    "marks = int(input(\"Please enter your marks (0-100): \"))\n",
    "if 0<= marks <= 100:\n",
    "    if marks >= 90:\n",
    "        grade = \"A\"\n",
    "    elif marks >= 80:\n",
    "        grade = \"B\"\n",
    "    elif marks >= 70:\n",
    "        grade = \"C\"\n",
    "    elif marks >=60:\n",
    "        grade = \"D\"\n",
    "    else:\n",
    "        grade = \"F\"\n",
    "        print(\"Grade:\", grade)\n",
    "    print(\"Invalid marks. Please enter your value between 0 and 100.\")\n",
    "print(\"Invalid input. Please enter a numeric value.\")\n",
    "        "
   ]
  },
  {
   "cell_type": "code",
   "execution_count": 3,
   "id": "43d14a58-bcb6-4f0d-b3e3-7ecb5b6606c3",
   "metadata": {},
   "outputs": [
    {
     "name": "stdin",
     "output_type": "stream",
     "text": [
      "Enter your age 17\n"
     ]
    },
    {
     "name": "stdout",
     "output_type": "stream",
     "text": [
      "You are not eligible to vote\n"
     ]
    }
   ],
   "source": [
    "#Voting Eligibility program\n",
    "age = int(input(\"Enter your age\"))\n",
    "if age >= 18:\n",
    "    print(\"You are eligible to vote\")\n",
    "else:\n",
    "    print(\"You are not eligible to vote\")"
   ]
  },
  {
   "cell_type": "code",
   "execution_count": 5,
   "id": "7d0090ab-ec1e-40bd-b331-8fabf2b68fde",
   "metadata": {},
   "outputs": [
    {
     "name": "stdin",
     "output_type": "stream",
     "text": [
      "Enter your Year of birth 2008\n"
     ]
    },
    {
     "name": "stdout",
     "output_type": "stream",
     "text": [
      "You are eligible to vote\n"
     ]
    }
   ],
   "source": [
    "#Voting Eligibility program\n",
    "Year = int(input(\"Enter your Year of birth\"))\n",
    "if Year >=2007:\n",
    "    \n",
    "    print(\"You are eligible to vote\")\n",
    "else:\n",
    "    print(\"You are not eligible to vote\")"
   ]
  },
  {
   "cell_type": "code",
   "execution_count": null,
   "id": "84c52301-959a-4250-9ecf-6328dbef29be",
   "metadata": {},
   "outputs": [],
   "source": []
  }
 ],
 "metadata": {
  "kernelspec": {
   "display_name": "Python 3 (ipykernel)",
   "language": "python",
   "name": "python3"
  },
  "language_info": {
   "codemirror_mode": {
    "name": "ipython",
    "version": 3
   },
   "file_extension": ".py",
   "mimetype": "text/x-python",
   "name": "python",
   "nbconvert_exporter": "python",
   "pygments_lexer": "ipython3",
   "version": "3.12.7"
  }
 },
 "nbformat": 4,
 "nbformat_minor": 5
}
