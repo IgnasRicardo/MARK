{
 "cells": [
  {
   "cell_type": "code",
   "execution_count": 5,
   "id": "a3f6a358-07c4-473a-a7d0-16f77b9e928b",
   "metadata": {},
   "outputs": [
    {
     "name": "stdin",
     "output_type": "stream",
     "text": [
      "enter your marks: 60\n"
     ]
    },
    {
     "name": "stdout",
     "output_type": "stream",
     "text": [
      "good\n"
     ]
    }
   ],
   "source": [
    "marks = float(input(\"enter your marks:\"))\n",
    "\n",
    "if marks >=80:\n",
    "    print(\"excellence\")\n",
    "elif marks >=50 and marks <= 79:\n",
    "    print(\"good\")\n",
    "elif marks <50:\n",
    "    print(\"fail\")"
   ]
  },
  {
   "cell_type": "code",
   "execution_count": 9,
   "id": "080d070d-f9f7-48b3-9f2d-37553854e46a",
   "metadata": {},
   "outputs": [
    {
     "name": "stdin",
     "output_type": "stream",
     "text": [
      "enter population number 100000\n"
     ]
    },
    {
     "name": "stdout",
     "output_type": "stream",
     "text": [
      "moderately population\n"
     ]
    }
   ],
   "source": [
    "pop = int(input(\"enter population number\"))\n",
    "\n",
    "if pop >= 1000000:\n",
    "   print(\"highly population\")\n",
    "elif pop >= 100000 and pop <= 1000000:\n",
    "   print(\"moderately population\")\n",
    "elif pop <= 100000:\n",
    "    print(\"low population\")"
   ]
  },
  {
   "cell_type": "code",
   "execution_count": 10,
   "id": "ed0ea3fd-7c43-46e1-9070-edc7f84b1224",
   "metadata": {},
   "outputs": [
    {
     "name": "stdin",
     "output_type": "stream",
     "text": [
      "enter your age 79\n"
     ]
    },
    {
     "name": "stdout",
     "output_type": "stream",
     "text": [
      "50% discount apply\n"
     ]
    }
   ],
   "source": [
    "age = int(input(\"enter your age\"))\n",
    "\n",
    "if age <=12:\n",
    "    print(\"50% discount apply\")\n",
    "if age >=65:\n",
    "    print(\"50% discount apply\")\n",
    "else:\n",
    "    print(\"no discount apply\")"
   ]
  },
  {
   "cell_type": "code",
   "execution_count": null,
   "id": "fd3b0fe1-f58d-448d-a3df-9e6e4d58a8a7",
   "metadata": {},
   "outputs": [],
   "source": [
    "\n"
   ]
  },
  {
   "cell_type": "code",
   "execution_count": null,
   "id": "821fd325-1bb3-4f6b-9b77-ad2f699ea000",
   "metadata": {},
   "outputs": [],
   "source": []
  },
  {
   "cell_type": "code",
   "execution_count": null,
   "id": "63a6a185-7597-4d3d-a7ee-c7aafa4ff917",
   "metadata": {},
   "outputs": [],
   "source": []
  },
  {
   "cell_type": "code",
   "execution_count": null,
   "id": "286bf7f9-fe1e-4219-bb6c-aefa757ffe50",
   "metadata": {},
   "outputs": [],
   "source": []
  }
 ],
 "metadata": {
  "kernelspec": {
   "display_name": "Python 3 (ipykernel)",
   "language": "python",
   "name": "python3"
  },
  "language_info": {
   "codemirror_mode": {
    "name": "ipython",
    "version": 3
   },
   "file_extension": ".py",
   "mimetype": "text/x-python",
   "name": "python",
   "nbconvert_exporter": "python",
   "pygments_lexer": "ipython3",
   "version": "3.12.4"
  }
 },
 "nbformat": 4,
 "nbformat_minor": 5
}
