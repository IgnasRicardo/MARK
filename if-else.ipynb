{
 "cells": [
  {
   "cell_type": "code",
   "execution_count": 1,
   "id": "eccef347-e7eb-43a4-b7ea-0ff76f2d1800",
   "metadata": {},
   "outputs": [
    {
     "name": "stdin",
     "output_type": "stream",
     "text": [
      "Enter Year of Birth:  77\n"
     ]
    },
    {
     "name": "stdout",
     "output_type": "stream",
     "text": [
      "Your age is: 1948\n",
      "You are allowed to vote\n"
     ]
    }
   ],
   "source": [
    "import datetime\n",
    "\n",
    "x = datetime.datetime.now()\n",
    "current_year = x.year\n",
    "\n",
    "birth_year = int(input(\"Enter Year of Birth: \"))\n",
    "age = current_year - birth_year\n",
    "\n",
    "print(f\"Your age is: {age}\")\n",
    "\n",
    "if age >= 18 :\n",
    "    print(\"You are allowed to vote\")\n",
    "else:\n",
    "    print(\"You are not allowed to vote\")\n"
   ]
  },
  {
   "cell_type": "code",
   "execution_count": 23,
   "id": "68f3932d-a34a-4c28-86ab-1eb67ab6e68f",
   "metadata": {},
   "outputs": [
    {
     "name": "stdin",
     "output_type": "stream",
     "text": [
      "Enter your Marks:  80.5\n"
     ]
    },
    {
     "name": "stdout",
     "output_type": "stream",
     "text": [
      "Excellent\n"
     ]
    }
   ],
   "source": [
    "marks = float(input(\"Enter your Marks: \"))\n",
    "\n",
    "if marks >= 80 :\n",
    "    print(\"Excellent\")\n",
    "elif marks >= 50 and marks <= 79 :\n",
    "    print(\"Good\")\n",
    "elif marks < 50 :\n",
    "    print(\"Fail\")"
   ]
  },
  {
   "cell_type": "code",
   "execution_count": 25,
   "id": "f7f6ddb6-eea0-4f73-9eca-6ec9a60e70de",
   "metadata": {},
   "outputs": [
    {
     "name": "stdin",
     "output_type": "stream",
     "text": [
      "Enter Population number:  1000001\n"
     ]
    },
    {
     "name": "stdout",
     "output_type": "stream",
     "text": [
      "Highly Populated\n"
     ]
    }
   ],
   "source": [
    "pop = int(input(\"Enter Population number: \"))\n",
    "\n",
    "if pop > 1000000 :\n",
    "    print(\"Highly Populated\")\n",
    "elif pop >= 100000 and pop <= 1000000 :\n",
    "    print(\"Moderately Populated\")\n",
    "elif pop < 100000 :\n",
    "    print(\"Low Population\")"
   ]
  },
  {
   "cell_type": "code",
   "execution_count": 35,
   "id": "76a1aec4-baf0-4ca6-832e-026380b02203",
   "metadata": {},
   "outputs": [
    {
     "name": "stdin",
     "output_type": "stream",
     "text": [
      "Enter your Age:  68\n"
     ]
    },
    {
     "name": "stdout",
     "output_type": "stream",
     "text": [
      "50% Discount Apply\n"
     ]
    }
   ],
   "source": [
    "age = int(input(\"Enter your Age: \"))\n",
    "\n",
    "if age < 12 :\n",
    "    print(\"50% Discount Apply\")\n",
    "elif age > 65 :\n",
    "    print(\"50% Discount Apply\")\n",
    "else:\n",
    "    print(\"No Discount Apply\")"
   ]
  },
  {
   "cell_type": "code",
   "execution_count": null,
   "id": "e04044fc-82fe-472c-ab0e-70aa5d51f74d",
   "metadata": {},
   "outputs": [],
   "source": []
  },
  {
   "cell_type": "code",
   "execution_count": 37,
   "id": "a4b83577-01c4-4c50-b5d1-6ecc30901335",
   "metadata": {},
   "outputs": [
    {
     "name": "stdin",
     "output_type": "stream",
     "text": [
      "Enter your Age:  54\n"
     ]
    },
    {
     "name": "stdout",
     "output_type": "stream",
     "text": [
      "Payment required\n"
     ]
    }
   ],
   "source": [
    "age = int(input(\"Enter your Age: \"))\n",
    "\n",
    "if age >= 60 :\n",
    "    print(\"Free medial treatment\")\n",
    "else:\n",
    "    print(\"Payment required\")"
   ]
  },
  {
   "cell_type": "code",
   "execution_count": null,
   "id": "f82942d2-9f1f-4dd2-9884-c19e841e0547",
   "metadata": {},
   "outputs": [],
   "source": []
  }
 ],
 "metadata": {
  "kernelspec": {
   "display_name": "Python 3 (ipykernel)",
   "language": "python",
   "name": "python3"
  },
  "language_info": {
   "codemirror_mode": {
    "name": "ipython",
    "version": 3
   },
   "file_extension": ".py",
   "mimetype": "text/x-python",
   "name": "python",
   "nbconvert_exporter": "python",
   "pygments_lexer": "ipython3",
   "version": "3.12.4"
  }
 },
 "nbformat": 4,
 "nbformat_minor": 5
}
