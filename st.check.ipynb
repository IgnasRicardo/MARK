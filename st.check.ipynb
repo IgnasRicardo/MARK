{
 "cells": [
  {
   "cell_type": "code",
   "execution_count": 48,
   "id": "2da6dda3-d420-42d7-b9a7-170c28a1d327",
   "metadata": {},
   "outputs": [
    {
     "name": "stdout",
     "output_type": "stream",
     "text": [
      "2025\n"
     ]
    }
   ],
   "source": [
    "#age checker:\n",
    "import  streamlit as st\n",
    "st.title(\"Age checker\")\n",
    "age = st.number_input(\"enter your age\",min_value=0, step=1)\n",
    "if st.button(\"check\"):\n",
    "    if age < 18:\n",
    "        st.warning(\"you are a minor.\")\n",
    "    else:\n",
    "        st.success(\"you are an adult.\")"
   ]
  },
  {
   "cell_type": "code",
   "execution_count": null,
   "id": "db1d7110-739b-48d6-813e-3156121a9376",
   "metadata": {},
   "outputs": [],
   "source": [
    "#Even or odd checker:\n",
    "import streamlit as st\n",
    "st.title(\"Even or Odd checker\")\n",
    "num = st.number_input(\"Enter an interger\", step=1, format=%d\")\n",
    "if st.button(\"check\"):\n",
    "    if int(num) % 2 == 0:\n",
    "        st.success(\"Even Number\")\n",
    "    else:\n",
    "        st.warning(\"Odd Number\")"
   ]
  }
 ],
 "metadata": {
  "kernelspec": {
   "display_name": "Python 3 (ipykernel)",
   "language": "python",
   "name": "python3"
  },
  "language_info": {
   "codemirror_mode": {
    "name": "ipython",
    "version": 3
   },
   "file_extension": ".py",
   "mimetype": "text/x-python",
   "name": "python",
   "nbconvert_exporter": "python",
   "pygments_lexer": "ipython3",
   "version": "3.12.7"
  }
 },
 "nbformat": 4,
 "nbformat_minor": 5
}
