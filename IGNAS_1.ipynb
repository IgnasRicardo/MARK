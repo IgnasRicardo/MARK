{
 "cells": [
  {
   "cell_type": "code",
   "execution_count": 1,
   "id": "1428980b-211f-4476-ac2a-c13f229e6b0d",
   "metadata": {},
   "outputs": [
    {
     "name": "stdout",
     "output_type": "stream",
     "text": [
      "Hello World\n"
     ]
    }
   ],
   "source": [
    "#String(r)\n",
    "x = \"Hello World\"\n",
    "print(x)"
   ]
  },
  {
   "cell_type": "code",
   "execution_count": null,
   "id": "a98d3d07-9c45-4db0-9344-2a79c2b42598",
   "metadata": {},
   "outputs": [],
   "source": []
  },
  {
   "cell_type": "code",
   "execution_count": 2,
   "id": "d2b2eee4-9049-45b6-bf88-fcd8b1161a59",
   "metadata": {},
   "outputs": [
    {
     "name": "stdout",
     "output_type": "stream",
     "text": [
      "11\n"
     ]
    }
   ],
   "source": [
    "#Get the length\n",
    "print(len(x))"
   ]
  },
  {
   "cell_type": "code",
   "execution_count": 3,
   "id": "46e89383-86c8-4de8-955f-2be41899a7ed",
   "metadata": {},
   "outputs": [
    {
     "name": "stdout",
     "output_type": "stream",
     "text": [
      "H\n",
      "d\n"
     ]
    }
   ],
   "source": [
    "#Access individual chars\n",
    "print(x[0])\n",
    "print(x[-1])"
   ]
  },
  {
   "cell_type": "code",
   "execution_count": 2,
   "id": "fbddd22c-5e2b-4e42-ac96-87fcc8d6e49e",
   "metadata": {},
   "outputs": [
    {
     "name": "stdout",
     "output_type": "stream",
     "text": [
      "Hello\n",
      "World\n"
     ]
    }
   ],
   "source": [
    "#Slice the string\n",
    "x = \"Hello World\"\n",
    "print(x[0:5])\n",
    "print(x[6:])"
   ]
  },
  {
   "cell_type": "code",
   "execution_count": 4,
   "id": "92768e8e-205c-41bf-8640-d9417247605e",
   "metadata": {},
   "outputs": [
    {
     "name": "stdout",
     "output_type": "stream",
     "text": [
      "Hello World again\n"
     ]
    }
   ],
   "source": [
    "x = \"Hello World\"\n",
    "x += \" again\"\n",
    "print(x)"
   ]
  },
  {
   "cell_type": "code",
   "execution_count": 7,
   "id": "f3bd959e-17fe-4905-9516-b7c3ed400133",
   "metadata": {},
   "outputs": [
    {
     "name": "stdout",
     "output_type": "stream",
     "text": [
      "HELLO WORLD AGAIN\n",
      "hello world again\n"
     ]
    }
   ],
   "source": [
    "print(x.upper())\n",
    "print(x.lower())"
   ]
  },
  {
   "cell_type": "code",
   "execution_count": 8,
   "id": "786fece9-0067-4fb3-8ae4-b7804d5af946",
   "metadata": {},
   "outputs": [
    {
     "name": "stdout",
     "output_type": "stream",
     "text": [
      "10 -5 0 7 45\n"
     ]
    }
   ],
   "source": [
    "#Integers\n",
    "x = 10\n",
    "y = -5\n",
    "z = 0\n",
    "M = 7\n",
    "K = 45\n",
    "print(x, y, z, M, K)"
   ]
  },
  {
   "cell_type": "code",
   "execution_count": 9,
   "id": "d115f8bd-d5a3-4344-a5a0-4b2251400942",
   "metadata": {},
   "outputs": [
    {
     "name": "stdout",
     "output_type": "stream",
     "text": [
      "8\n"
     ]
    }
   ],
   "source": [
    "#1. Addition\n",
    "a = 5\n",
    "b = 3\n",
    "c = a+b\n",
    "print(c)"
   ]
  },
  {
   "cell_type": "code",
   "execution_count": 10,
   "id": "fd266f7d-183f-4a6f-be7f-4d991a2092b6",
   "metadata": {},
   "outputs": [
    {
     "name": "stdout",
     "output_type": "stream",
     "text": [
      "2\n"
     ]
    }
   ],
   "source": [
    "#2. Subtraction\n",
    "c = a-b\n",
    "print(c)"
   ]
  },
  {
   "cell_type": "code",
   "execution_count": 12,
   "id": "723a7d70-0112-46e5-8b2f-c10c272bb4e8",
   "metadata": {},
   "outputs": [
    {
     "name": "stdout",
     "output_type": "stream",
     "text": [
      "15\n"
     ]
    }
   ],
   "source": [
    "#3. Multiplication\n",
    "c = a*b\n",
    "print(c)"
   ]
  },
  {
   "cell_type": "code",
   "execution_count": 13,
   "id": "c094ce13-1aa0-4885-b914-98ee2f637ea4",
   "metadata": {},
   "outputs": [
    {
     "name": "stdout",
     "output_type": "stream",
     "text": [
      "1.6666666666666667\n"
     ]
    }
   ],
   "source": [
    "#4. Division\n",
    "c = a/b\n",
    "print(c)"
   ]
  },
  {
   "cell_type": "code",
   "execution_count": 14,
   "id": "3e235cc6-0257-4981-9965-9c833136f37d",
   "metadata": {},
   "outputs": [
    {
     "name": "stdout",
     "output_type": "stream",
     "text": [
      "1\n"
     ]
    }
   ],
   "source": [
    "#5. Floor Division\n",
    "c = a//b\n",
    "print(c)"
   ]
  },
  {
   "cell_type": "code",
   "execution_count": 15,
   "id": "f14e0a87-dc81-43fa-989b-6d7129a3ac5b",
   "metadata": {},
   "outputs": [
    {
     "name": "stdout",
     "output_type": "stream",
     "text": [
      "2\n"
     ]
    }
   ],
   "source": [
    "#6. Modulus (Remainder)\n",
    "c = a%b\n",
    "print(c)"
   ]
  },
  {
   "cell_type": "code",
   "execution_count": 16,
   "id": "4590e47c-b8b2-41bf-84c5-dc3490c3e9bd",
   "metadata": {},
   "outputs": [
    {
     "name": "stdout",
     "output_type": "stream",
     "text": [
      "125\n"
     ]
    }
   ],
   "source": [
    "#7. Exponent\n",
    "c = a**b\n",
    "print(c)"
   ]
  },
  {
   "cell_type": "code",
   "execution_count": 18,
   "id": "19c1cb82-d092-4c17-8fb6-35c025f33d05",
   "metadata": {},
   "outputs": [
    {
     "name": "stdout",
     "output_type": "stream",
     "text": [
      "I am 55\n"
     ]
    }
   ],
   "source": [
    "#Mixing integers with strings\n",
    "age = 55\n",
    "print(\"I am \" + str(age))"
   ]
  },
  {
   "cell_type": "code",
   "execution_count": 19,
   "id": "71be1ac6-e26e-4d9d-9ae9-860b8f76c775",
   "metadata": {},
   "outputs": [
    {
     "name": "stdout",
     "output_type": "stream",
     "text": [
      "7.5\n",
      "3.5\n",
      "11.0\n",
      "2.75\n"
     ]
    }
   ],
   "source": [
    "# Math with float numbers\n",
    "a = 5.5\n",
    "b = 2.0\n",
    "\n",
    "print(a + b)\n",
    "print(a - b)\n",
    "print(a * b)\n",
    "print(a / b)"
   ]
  },
  {
   "cell_type": "code",
   "execution_count": 24,
   "id": "c09dd83a-3c68-4596-9b1d-f603e665fcba",
   "metadata": {},
   "outputs": [
    {
     "name": "stdout",
     "output_type": "stream",
     "text": [
      "10.0\n"
     ]
    }
   ],
   "source": [
    "#converting between Float & Integer\n",
    "#1. From int to float\n",
    "\n",
    "x = 10\n",
    "y = float(x)\n",
    "print(y)"
   ]
  },
  {
   "cell_type": "code",
   "execution_count": 25,
   "id": "0c902ed0-a120-432a-b111-cf51a850a835",
   "metadata": {},
   "outputs": [
    {
     "name": "stdout",
     "output_type": "stream",
     "text": [
      "10\n"
     ]
    }
   ],
   "source": [
    "#2. From Float to int\n",
    "\n",
    "x = 10.0\n",
    "y = int(x)\n",
    "print(y)"
   ]
  },
  {
   "cell_type": "code",
   "execution_count": 27,
   "id": "d8611ff0-ad98-454f-bac1-77d086bc4495",
   "metadata": {},
   "outputs": [
    {
     "name": "stdout",
     "output_type": "stream",
     "text": [
      "The price is $19.99\n"
     ]
    }
   ],
   "source": [
    "#Mixing with Strings\n",
    "price = 19.99\n",
    "print(\"The price is $\" + str(price))"
   ]
  },
  {
   "cell_type": "code",
   "execution_count": 2,
   "id": "7923e878-90ed-4541-85f6-75f726200403",
   "metadata": {},
   "outputs": [
    {
     "name": "stdout",
     "output_type": "stream",
     "text": [
      "<class 'str'>\n",
      "<class 'int'>\n",
      "<class 'float'>\n"
     ]
    }
   ],
   "source": [
    "x = \"353e\"\n",
    "y = 12\n",
    "z = -87.7e100\n",
    "\n",
    "print(type(x))\n",
    "print(type(y))\n",
    "print(type(z))\n"
   ]
  },
  {
   "cell_type": "code",
   "execution_count": 3,
   "id": "613ed9e8-e3b6-41a6-9be0-e45f32a9e6e1",
   "metadata": {},
   "outputs": [
    {
     "name": "stdout",
     "output_type": "stream",
     "text": [
      "(3+4j)\n"
     ]
    }
   ],
   "source": [
    "#Complex Number\n",
    "\n",
    "z = 3+4j\n",
    "\n",
    "print(z)"
   ]
  },
  {
   "cell_type": "code",
   "execution_count": 31,
   "id": "6dc146f6-31d2-4380-98d7-aabb97e29773",
   "metadata": {},
   "outputs": [
    {
     "name": "stdout",
     "output_type": "stream",
     "text": [
      "3.0\n",
      "4.0\n"
     ]
    }
   ],
   "source": [
    "#Accessing real and imaginary part\n",
    "\n",
    "z = 3 + 4j\n",
    "print(z.real)\n",
    "print(z.imag)"
   ]
  },
  {
   "cell_type": "code",
   "execution_count": 32,
   "id": "756812e3-e17a-4b3c-afe4-ae3c30b2d5cd",
   "metadata": {},
   "outputs": [
    {
     "name": "stdout",
     "output_type": "stream",
     "text": [
      "(3+4j)\n",
      "(1+2j)\n",
      "(-1+5j)\n",
      "(0.016+0.024j)\n"
     ]
    }
   ],
   "source": [
    "#Complex number math\n",
    "a = 2 + 3j\n",
    "b = 1 + 1j\n",
    "\n",
    "print(a + b)\n",
    "print(a - b)\n",
    "print(a * b)\n",
    "print(a / c)"
   ]
  },
  {
   "cell_type": "code",
   "execution_count": 33,
   "id": "9be430c1-ce2b-4587-8626-30b5eb1068b3",
   "metadata": {},
   "outputs": [
    {
     "name": "stdout",
     "output_type": "stream",
     "text": [
      "<class 'complex'>\n"
     ]
    }
   ],
   "source": [
    "#Check data type\n",
    "z = 5 +2j\n",
    "print(type(z))"
   ]
  },
  {
   "cell_type": "code",
   "execution_count": 34,
   "id": "4c727691-47a9-416f-a5c0-a36aaf930cd2",
   "metadata": {},
   "outputs": [
    {
     "name": "stdout",
     "output_type": "stream",
     "text": [
      "(3+4j)\n"
     ]
    }
   ],
   "source": [
    "#Create complex numbers\n",
    "z = complex(3, 4)\n",
    "print(z)"
   ]
  },
  {
   "cell_type": "code",
   "execution_count": 52,
   "id": "63c6a11c-b867-429c-abe7-ae7087db82e9",
   "metadata": {},
   "outputs": [
    {
     "name": "stdout",
     "output_type": "stream",
     "text": [
      "['apple', 'banana', 'cherry']\n"
     ]
    }
   ],
   "source": [
    "#Lists\n",
    "x = [\"apple\", \"banana\", \"cherry\"]\n",
    "print(x)"
   ]
  },
  {
   "cell_type": "code",
   "execution_count": 53,
   "id": "5c086117-b2f4-4470-aef5-f59fc1faf601",
   "metadata": {},
   "outputs": [
    {
     "name": "stdout",
     "output_type": "stream",
     "text": [
      "apple\n",
      "banana\n",
      "cherry\n"
     ]
    }
   ],
   "source": [
    "#Accessing items\n",
    "print(x[0])\n",
    "print(x[1])\n",
    "print(x[2])"
   ]
  },
  {
   "cell_type": "code",
   "execution_count": 54,
   "id": "44017ffa-4206-442e-a5f9-42748503a04c",
   "metadata": {},
   "outputs": [
    {
     "name": "stdout",
     "output_type": "stream",
     "text": [
      "['apple', 'orange', 'cherry']\n"
     ]
    }
   ],
   "source": [
    "#changing items\n",
    "x[1] = \"orange\"\n",
    "print(x)"
   ]
  },
  {
   "cell_type": "code",
   "execution_count": 55,
   "id": "ced16f42-fa08-45af-9a6f-3849b357bd6e",
   "metadata": {},
   "outputs": [
    {
     "name": "stdout",
     "output_type": "stream",
     "text": [
      "['apple', 'orange', 'cherry', 'grape']\n"
     ]
    }
   ],
   "source": [
    "#Adding Items\n",
    "x.append(\"grape\")\n",
    "print(x)"
   ]
  },
  {
   "cell_type": "code",
   "execution_count": 56,
   "id": "a8868a39-635c-4f64-a2c9-53cc1aede2a1",
   "metadata": {},
   "outputs": [
    {
     "name": "stdout",
     "output_type": "stream",
     "text": [
      "['apple', 'kiwi', 'orange', 'cherry', 'grape']\n"
     ]
    }
   ],
   "source": [
    "#Inserting at a position\n",
    "x.insert(1, \"kiwi\")\n",
    "print(x)"
   ]
  },
  {
   "cell_type": "code",
   "execution_count": 57,
   "id": "703d9452-e650-406c-a53d-342020c77715",
   "metadata": {},
   "outputs": [
    {
     "name": "stdout",
     "output_type": "stream",
     "text": [
      "['kiwi', 'cherry']\n"
     ]
    }
   ],
   "source": [
    "#Removing Items\n",
    "x.remove(\"orange\")  #removes by value\n",
    "x.pop()  #removes last item\n",
    "del x[0]  #removes by index\n",
    "print(x)"
   ]
  },
  {
   "cell_type": "code",
   "execution_count": 58,
   "id": "5c97d19d-9363-41bc-98f6-ee425359bbfb",
   "metadata": {},
   "outputs": [
    {
     "name": "stdout",
     "output_type": "stream",
     "text": [
      "kiwi\n",
      "cherry\n"
     ]
    }
   ],
   "source": [
    "#Looping through a list\n",
    "for fruit in x:\n",
    "    print(fruit)"
   ]
  },
  {
   "cell_type": "code",
   "execution_count": 65,
   "id": "e3dedb61-6703-45fe-a1ad-c1bc76d04df7",
   "metadata": {},
   "outputs": [
    {
     "name": "stdout",
     "output_type": "stream",
     "text": [
      "[10, 'hello', 3.14, True]\n"
     ]
    }
   ],
   "source": [
    "#List can hold anything\n",
    "mixed = [10, \"hello\", 3.14, True]\n",
    "print(mixed)"
   ]
  },
  {
   "cell_type": "code",
   "execution_count": 67,
   "id": "f650b09d-0a12-438f-ae99-bda1c6d5f62d",
   "metadata": {},
   "outputs": [],
   "source": [
    "#Tuples\n",
    "x = (\"apple\", \"banana\", \"cherry\")"
   ]
  },
  {
   "cell_type": "code",
   "execution_count": 68,
   "id": "4b4eb2c7-1e4f-4118-a187-e8c2b8074154",
   "metadata": {},
   "outputs": [
    {
     "name": "stdout",
     "output_type": "stream",
     "text": [
      "apple\n",
      "banana\n",
      "cherry\n"
     ]
    }
   ],
   "source": [
    "#Accessing Tuple items\n",
    "x = (\"apple\", \"banana\", \"cherry\")\n",
    "print(x[0])\n",
    "print(x[1])\n",
    "print(x[2])"
   ]
  },
  {
   "cell_type": "code",
   "execution_count": 69,
   "id": "161a78ce-5c0c-4228-a98a-0759528e7f4f",
   "metadata": {},
   "outputs": [
    {
     "name": "stdout",
     "output_type": "stream",
     "text": [
      "<class 'tuple'>\n",
      "<class 'str'>\n"
     ]
    }
   ],
   "source": [
    "#Tuple with one item\n",
    "x = (\"apple\",)\n",
    "y = (\"apple\")\n",
    "\n",
    "print(type(x))\n",
    "print(type(y))"
   ]
  },
  {
   "cell_type": "code",
   "execution_count": 9,
   "id": "19d4dfce-e460-4a33-9227-010556852d69",
   "metadata": {},
   "outputs": [
    {
     "name": "stdout",
     "output_type": "stream",
     "text": [
      "2\n",
      "1\n"
     ]
    }
   ],
   "source": [
    "#Tuple Methods\n",
    "#Tuples have only two built - in methods:\n",
    "x = (\"apple\", \"banana\", \"apple\", \"cherry\")\n",
    "print(x.count(\"apple\"))\n",
    "print(x.count(\"cherry\"))"
   ]
  },
  {
   "cell_type": "code",
   "execution_count": 10,
   "id": "5d9ff153-d4b2-4c56-ab63-91bf6a62cc6a",
   "metadata": {},
   "outputs": [
    {
     "name": "stdout",
     "output_type": "stream",
     "text": [
      "[0, 1, 2, 3, 4]\n"
     ]
    }
   ],
   "source": [
    "#Convert to list:\n",
    "#For loop in Python\n",
    "#What is i? \n",
    "x = list(range(5))\n",
    "print(x)"
   ]
  },
  {
   "cell_type": "code",
   "execution_count": 23,
   "id": "8ef93d70-181f-458a-8417-1e9ee51e2fc0",
   "metadata": {},
   "outputs": [
    {
     "name": "stdout",
     "output_type": "stream",
     "text": [
      "Alice\n",
      "20\n",
      "A\n"
     ]
    }
   ],
   "source": [
    "#Basics Dictionary Example:\n",
    "student = {\"name\": \"Alice\", \"age\": 20, \"grade\": \"A\"}\n",
    "#\"name\", \"age\", \"grade\" are keys\n",
    "#\"Alice\", 20, \"A\" are values\n",
    "#Accessing values:\n",
    "print(student[\"name\"])\n",
    "print(student[\"age\"])\n",
    "print(student[\"grade\"])"
   ]
  },
  {
   "cell_type": "code",
   "execution_count": 24,
   "id": "2cf53bf6-2bcf-45ce-8905-ea83d11a7e0d",
   "metadata": {},
   "outputs": [
    {
     "name": "stdout",
     "output_type": "stream",
     "text": [
      "{'name': 'Alice', 'age': 21, 'grade': 'A'}\n"
     ]
    }
   ],
   "source": [
    "#Changing values\n",
    "student[\"age\"] = 21\n",
    "print(student)"
   ]
  },
  {
   "cell_type": "code",
   "execution_count": 33,
   "id": "80678e9b-10b3-4698-8465-667de585acaa",
   "metadata": {},
   "outputs": [
    {
     "name": "stdout",
     "output_type": "stream",
     "text": [
      "{'name': 'Alice', 'age': 21, 'grade': 'A', 'email': 'alice@example.com'}\n"
     ]
    }
   ],
   "source": [
    "#Adding a new key value pairs:\n",
    "student[\"email\"] = \"alice@example.com\"\n",
    "print(student)"
   ]
  },
  {
   "cell_type": "code",
   "execution_count": 36,
   "id": "0f018a9e-f7c5-4ddf-bb7c-a6aba8b720fc",
   "metadata": {},
   "outputs": [
    {
     "name": "stdout",
     "output_type": "stream",
     "text": [
      "name\n",
      "age\n",
      "grade\n",
      "email\n"
     ]
    }
   ],
   "source": [
    "#Looping through a dictionary\n",
    "for key in student:\n",
    "    print(key)"
   ]
  },
  {
   "cell_type": "code",
   "execution_count": 37,
   "id": "daafa1ea-d04b-4962-a294-8712945c812e",
   "metadata": {},
   "outputs": [
    {
     "name": "stdout",
     "output_type": "stream",
     "text": [
      "Alice\n",
      "21\n",
      "A\n",
      "alice@example.com\n"
     ]
    }
   ],
   "source": [
    "#Values:\n",
    "for value in student.values():\n",
    "    print(value)"
   ]
  },
  {
   "cell_type": "code",
   "execution_count": 48,
   "id": "5e38e092-5970-41fb-a06c-0f5ff97fe88e",
   "metadata": {},
   "outputs": [
    {
     "name": "stdout",
     "output_type": "stream",
     "text": [
      "name : Alice\n",
      "age : 21\n",
      "grade : A\n",
      "email : alice@example.com\n"
     ]
    }
   ],
   "source": [
    "#Looping through dictionary(key, value)\n",
    "for key, value in student.items():\n",
    "    print(key, \":\", value)"
   ]
  },
  {
   "cell_type": "code",
   "execution_count": null,
   "id": "6b7ce74d-bc57-412b-87e3-07cbffba9d4e",
   "metadata": {},
   "outputs": [],
   "source": [
    "#delete item\n",
    "       #del student[\"key\"]"
   ]
  },
  {
   "cell_type": "code",
   "execution_count": 49,
   "id": "0d533afb-e2e2-432f-aba4-5d7b55dd4254",
   "metadata": {},
   "outputs": [
    {
     "name": "stdout",
     "output_type": "stream",
     "text": [
      "4\n",
      "dict_keys(['name', 'age', 'grade', 'email'])\n",
      "dict_values(['Alice', 21, 'A', 'alice@example.com'])\n",
      "dict_items([('name', 'Alice'), ('age', 21), ('grade', 'A'), ('email', 'alice@example.com')])\n"
     ]
    }
   ],
   "source": [
    "#Dictionary Functions\n",
    "print(len(student))\n",
    "print(student.keys())\n",
    "print(student.values())\n",
    "print(student.items())"
   ]
  },
  {
   "cell_type": "code",
   "execution_count": 2,
   "id": "befcf6ea-728a-41c7-9624-221004f1fcc1",
   "metadata": {},
   "outputs": [
    {
     "name": "stdout",
     "output_type": "stream",
     "text": [
      "{'banana', 'cherry', 'apple'}\n",
      "{1, 2, 3}\n"
     ]
    }
   ],
   "source": [
    "#Set\n",
    "#Creating a set:\n",
    "fruits = {\"apple\", \"banana\", \"cherry\"}\n",
    "print(fruits)\n",
    "#The output may not be in order\n",
    "#Or using the set () function:\n",
    "numbers = set({1,2,3,2,1})\n",
    "print(numbers)\n",
    "\n",
    "\n"
   ]
  },
  {
   "cell_type": "code",
   "execution_count": 4,
   "id": "9fcaf6b6-d519-48d4-8f8d-f8cf2379adfa",
   "metadata": {},
   "outputs": [
    {
     "name": "stdout",
     "output_type": "stream",
     "text": [
      "{'orange', 'banana', 'cherry', 'apple'}\n"
     ]
    }
   ],
   "source": [
    "#Adding items:\n",
    "fruits.add(\"orange\")\n",
    "print(fruits)"
   ]
  },
  {
   "cell_type": "code",
   "execution_count": 51,
   "id": "8bd6ace7-9299-4254-beb0-6ac80f71506a",
   "metadata": {},
   "outputs": [
    {
     "name": "stdout",
     "output_type": "stream",
     "text": [
      "{'orange', 'cherry', 'apple'}\n"
     ]
    }
   ],
   "source": [
    "#Removing items:\n",
    "fruits.discard(\"grape\")\n",
    "print(fruits)"
   ]
  },
  {
   "cell_type": "code",
   "execution_count": 23,
   "id": "653797d7-c557-465e-b640-c416276826a8",
   "metadata": {},
   "outputs": [
    {
     "name": "stdout",
     "output_type": "stream",
     "text": [
      "{1, 2, 3, 4, 5}\n",
      "{3}\n",
      "{1, 2}\n"
     ]
    }
   ],
   "source": [
    "#looping through a set:\n",
    "\n",
    "#Set Operations (Great For Math)\n",
    "\n",
    "a = {1,2,3}\n",
    "b = {3,4,5}\n",
    "print(a.union(b))\n",
    "print(a.intersection(b))\n",
    "print(a.difference(b))"
   ]
  },
  {
   "cell_type": "code",
   "execution_count": 27,
   "id": "5d9f5f8e-dd0e-41a8-a33f-947f66ef4305",
   "metadata": {},
   "outputs": [
    {
     "name": "stdout",
     "output_type": "stream",
     "text": [
      "orange\n"
     ]
    }
   ],
   "source": [
    "#If you need indexing, convert to list:\n",
    "fruit_list = list(fruits)\n",
    "print(fruit_list[0])"
   ]
  },
  {
   "cell_type": "code",
   "execution_count": 29,
   "id": "5df629dd-1bfc-45f5-a437-b0b207252796",
   "metadata": {},
   "outputs": [
    {
     "name": "stdout",
     "output_type": "stream",
     "text": [
      "frozenset({'banana', 'cherry', 'apple'})\n"
     ]
    }
   ],
   "source": [
    "#Frozenset\n",
    "#Example \n",
    "x = frozenset({\"apple\", \"banana\", \"cherry\"})\n",
    "print(x)"
   ]
  },
  {
   "cell_type": "code",
   "execution_count": 30,
   "id": "e7f278b2-6388-436b-a1dd-f2e941ba23bd",
   "metadata": {},
   "outputs": [
    {
     "name": "stdout",
     "output_type": "stream",
     "text": [
      "frozenset({1, 2, 3, 4, 5})\n",
      "frozenset({3})\n",
      "frozenset({1, 2})\n"
     ]
    }
   ],
   "source": [
    "#Set Operation\n",
    "a = frozenset([1,2,3,])\n",
    "b = frozenset([3,4,5])\n",
    "print(a.union(b))\n",
    "print(a.intersection(b))\n",
    "print(a.difference(b))\n"
   ]
  },
  {
   "cell_type": "code",
   "execution_count": 31,
   "id": "30f94dfd-6f86-4a21-b6d6-57edcc02c212",
   "metadata": {},
   "outputs": [
    {
     "name": "stdout",
     "output_type": "stream",
     "text": [
      "True\n",
      "False\n",
      "True\n",
      "False\n"
     ]
    }
   ],
   "source": [
    "#Bool\n",
    "#You can use bool() to convert other types into a boolen:\n",
    "x = True\n",
    "y = False\n",
    "print(bool(1))\n",
    "print(bool(0))\n",
    "print(bool(\"hello\"))\n",
    "print(bool(\"\"))\n"
   ]
  },
  {
   "cell_type": "code",
   "execution_count": 32,
   "id": "4e41875f-7812-484d-8233-d83296606df6",
   "metadata": {},
   "outputs": [
    {
     "name": "stdout",
     "output_type": "stream",
     "text": [
      "x is greater\n"
     ]
    }
   ],
   "source": [
    "#Booleans in Conditions:\n",
    "\n",
    "x = 10\n",
    "y = 5\n",
    "if x > y:\n",
    "    print(\"x is greater\")"
   ]
  },
  {
   "cell_type": "code",
   "execution_count": 37,
   "id": "bbbeeafe-2d56-44b6-836d-37a00220d02b",
   "metadata": {},
   "outputs": [
    {
     "name": "stdout",
     "output_type": "stream",
     "text": [
      "True\n"
     ]
    }
   ],
   "source": [
    "#Example\n",
    "\n",
    "age = 18\n",
    "print(age >= 18)"
   ]
  },
  {
   "cell_type": "code",
   "execution_count": 38,
   "id": "489def5d-f547-4893-b7ad-b959ac313f0e",
   "metadata": {},
   "outputs": [
    {
     "name": "stdout",
     "output_type": "stream",
     "text": [
      "10\n",
      "False\n"
     ]
    }
   ],
   "source": [
    "print(x or y)\n",
    "print(not x)"
   ]
  },
  {
   "cell_type": "code",
   "execution_count": 39,
   "id": "db9ac5f2-0958-4873-a54b-3471540ffaa2",
   "metadata": {},
   "outputs": [
    {
     "name": "stdout",
     "output_type": "stream",
     "text": [
      "b'ABC'\n"
     ]
    }
   ],
   "source": [
    "#Bytes\n",
    "x = bytes([65, 66, 67])\n",
    "print(x)"
   ]
  },
  {
   "cell_type": "code",
   "execution_count": 41,
   "id": "aeef522c-2d67-430e-93d2-ad6933cbfa5d",
   "metadata": {},
   "outputs": [
    {
     "name": "stdout",
     "output_type": "stream",
     "text": [
      "b'hello'\n"
     ]
    }
   ],
   "source": [
    "#From a string using .encode():\n",
    "text = \"hello\"\n",
    "x = text.encode()\n",
    "print(x)"
   ]
  },
  {
   "cell_type": "code",
   "execution_count": 42,
   "id": "d9ecf3e9-db77-42ca-9d0a-8fc5f3c54851",
   "metadata": {},
   "outputs": [
    {
     "name": "stdout",
     "output_type": "stream",
     "text": [
      "104\n"
     ]
    }
   ],
   "source": [
    "#Accessing Bytes:\n",
    "x = b\"hello\"\n",
    "print(x[0])"
   ]
  },
  {
   "cell_type": "code",
   "execution_count": 43,
   "id": "37d66052-766a-47a7-b857-fe25d1f0d63f",
   "metadata": {},
   "outputs": [
    {
     "name": "stdout",
     "output_type": "stream",
     "text": [
      "104\n"
     ]
    }
   ],
   "source": [
    "#Accessing and modifying:\n",
    "x = bytearray(b\"hello\")\n",
    "print(x[0])"
   ]
  },
  {
   "cell_type": "code",
   "execution_count": 44,
   "id": "51c3166c-bc59-4b41-9cf9-1a717ad44d56",
   "metadata": {},
   "outputs": [
    {
     "name": "stdout",
     "output_type": "stream",
     "text": [
      "bytearray(b'Hello')\n"
     ]
    }
   ],
   "source": [
    "x[0] = 72\n",
    "print(x)"
   ]
  },
  {
   "cell_type": "code",
   "execution_count": 45,
   "id": "90ffa1bf-e77f-4008-85d5-240302f55888",
   "metadata": {},
   "outputs": [
    {
     "name": "stdout",
     "output_type": "stream",
     "text": [
      "world\n"
     ]
    }
   ],
   "source": [
    "#Converting Back to string:\n",
    "x = bytearray(b\"world\")\n",
    "text = x.decode()\n",
    "print(text)"
   ]
  },
  {
   "cell_type": "code",
   "execution_count": 3,
   "id": "5779bf9d-4196-4d67-a479-2d9e801ffae2",
   "metadata": {},
   "outputs": [
    {
     "name": "stdout",
     "output_type": "stream",
     "text": [
      "3.141592653589793\n"
     ]
    }
   ],
   "source": [
    "#Circle\n",
    "print(math.pi)"
   ]
  },
  {
   "cell_type": "code",
   "execution_count": 7,
   "id": "3d1fc851-ded1-40ed-91b5-5efe200ebdcf",
   "metadata": {},
   "outputs": [
    {
     "name": "stdin",
     "output_type": "stream",
     "text": [
      "enter r 7\n"
     ]
    },
    {
     "name": "stdout",
     "output_type": "stream",
     "text": [
      "153.93804002589985\n"
     ]
    }
   ],
   "source": [
    "#Circle\n",
    "r = float(input(\"enter r\"))\n",
    "import math\n",
    "A = math.pi * (r **2)\n",
    "print(A)"
   ]
  },
  {
   "cell_type": "code",
   "execution_count": null,
   "id": "5259adfe-82ca-4d86-aeb9-cad983f35a08",
   "metadata": {},
   "outputs": [],
   "source": [
    "#Summary: bytes vs bytearray\n",
    "#Feature bytes bytearray\n",
    "#Mutable No    Yes\n",
    "#Indexing Yes  Yes\n",
    "#Use cases Read-only binary Editable binary\n",
    "#End\n"
   ]
  }
 ],
 "metadata": {
  "kernelspec": {
   "display_name": "Python 3 (ipykernel)",
   "language": "python",
   "name": "python3"
  },
  "language_info": {
   "codemirror_mode": {
    "name": "ipython",
    "version": 3
   },
   "file_extension": ".py",
   "mimetype": "text/x-python",
   "name": "python",
   "nbconvert_exporter": "python",
   "pygments_lexer": "ipython3",
   "version": "3.12.7"
  }
 },
 "nbformat": 4,
 "nbformat_minor": 5
}
