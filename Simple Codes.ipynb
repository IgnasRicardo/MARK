{
 "cells": [
  {
   "cell_type": "code",
   "execution_count": 2,
   "id": "9edcbcdb-8080-46ae-9920-3b118b5658e6",
   "metadata": {},
   "outputs": [
    {
     "name": "stdout",
     "output_type": "stream",
     "text": [
      "hello world5\n"
     ]
    }
   ],
   "source": [
    "#string(str)\n",
    "x=(\"hello world5\")\n",
    "print(x)\n"
   ]
  },
  {
   "cell_type": "code",
   "execution_count": 3,
   "id": "14f92477-af33-4e59-80a2-ec397e4de644",
   "metadata": {},
   "outputs": [
    {
     "name": "stdout",
     "output_type": "stream",
     "text": [
      "12\n"
     ]
    }
   ],
   "source": [
    "#get the length\n",
    "print(len(x))"
   ]
  },
  {
   "cell_type": "code",
   "execution_count": 5,
   "id": "a4bd29aa-c65e-4f6a-a44a-528914de0c51",
   "metadata": {},
   "outputs": [
    {
     "name": "stdout",
     "output_type": "stream",
     "text": [
      "h\n",
      "5\n"
     ]
    }
   ],
   "source": [
    "#Acces individual character\n",
    "print(x[0])\n",
    "print(x[-1])"
   ]
  },
  {
   "cell_type": "code",
   "execution_count": 6,
   "id": "9b14a7d5-8e3d-44de-a3f4-a79d28ccf0dc",
   "metadata": {},
   "outputs": [
    {
     "name": "stdout",
     "output_type": "stream",
     "text": [
      "hello\n",
      "world5\n"
     ]
    }
   ],
   "source": [
    "#slice the string\n",
    "print(x[0:5])\n",
    "print(x[6:])"
   ]
  },
  {
   "cell_type": "code",
   "execution_count": 7,
   "id": "f08316b8-c64c-4a5f-9aec-f28c197d4214",
   "metadata": {},
   "outputs": [
    {
     "name": "stdout",
     "output_type": "stream",
     "text": [
      "HELLO WORLD5\n",
      "hello world5\n"
     ]
    }
   ],
   "source": [
    "#convert to uppercase or lowercase\n",
    "print(x.upper())\n",
    "print(x.lower())"
   ]
  },
  {
   "cell_type": "code",
   "execution_count": 8,
   "id": "d88dda15-bc32-4cbb-856e-d84a7a2e4cc5",
   "metadata": {},
   "outputs": [
    {
     "name": "stdout",
     "output_type": "stream",
     "text": [
      "hello worldagain of KIITEC\n"
     ]
    }
   ],
   "source": [
    "x=\"hello world\"\n",
    "x=x+\"again of KIITEC\"\n",
    "print(x)"
   ]
  },
  {
   "cell_type": "code",
   "execution_count": 9,
   "id": "6d6473e5-fa2b-410d-aaaa-ddbbda8266ee",
   "metadata": {},
   "outputs": [
    {
     "name": "stdout",
     "output_type": "stream",
     "text": [
      "hello worldagain\n"
     ]
    }
   ],
   "source": [
    "x=\"hello world\"\n",
    "x=x+\"again\"\n",
    "print(x)"
   ]
  },
  {
   "cell_type": "code",
   "execution_count": 10,
   "id": "cb1c142a-5859-401e-b3d0-545666cd3099",
   "metadata": {},
   "outputs": [
    {
     "name": "stdout",
     "output_type": "stream",
     "text": [
      "10 -5 0 7 45\n"
     ]
    }
   ],
   "source": [
    "#what is an integers\n",
    "#an integers is a whole number -positive, negative, or zero. example\n",
    "x=10\n",
    "y=-5\n",
    "z=0\n",
    "m=7\n",
    "k=45\n",
    "print(x,y,z,m,k)"
   ]
  },
  {
   "cell_type": "code",
   "execution_count": 11,
   "id": "b0259f50-207b-41ea-9cae-ba95ae0431f4",
   "metadata": {},
   "outputs": [
    {
     "name": "stdout",
     "output_type": "stream",
     "text": [
      "8\n"
     ]
    }
   ],
   "source": [
    "#math with integers\n",
    "#1.addition\n",
    "a=5\n",
    "b=3\n",
    "c=a+b\n",
    "print(c)"
   ]
  },
  {
   "cell_type": "code",
   "execution_count": 12,
   "id": "a815db70-7e78-40b3-a3ca-343a61f49d44",
   "metadata": {},
   "outputs": [
    {
     "name": "stdout",
     "output_type": "stream",
     "text": [
      "2\n"
     ]
    }
   ],
   "source": [
    "#2. subtraction\n",
    "c=a-b\n",
    "print(c)"
   ]
  },
  {
   "cell_type": "code",
   "execution_count": 13,
   "id": "df8b4ba6-40de-45e3-ab19-fb47221af4ed",
   "metadata": {},
   "outputs": [
    {
     "name": "stdout",
     "output_type": "stream",
     "text": [
      "15\n"
     ]
    }
   ],
   "source": [
    "#3. multiplication\n",
    "c=a*b\n",
    "print(c)"
   ]
  },
  {
   "cell_type": "code",
   "execution_count": 14,
   "id": "db90c349-85d1-41b6-b14e-7f0a63dbf243",
   "metadata": {},
   "outputs": [
    {
     "name": "stdout",
     "output_type": "stream",
     "text": [
      "1.6666666666666667\n"
     ]
    }
   ],
   "source": [
    "c=a/b\n",
    "print(c)"
   ]
  },
  {
   "cell_type": "code",
   "execution_count": 15,
   "id": "446e5cb7-0848-4e88-b305-c2941b3e6b87",
   "metadata": {},
   "outputs": [
    {
     "name": "stdout",
     "output_type": "stream",
     "text": [
      "1\n"
     ]
    }
   ],
   "source": [
    "#5. floor division\n",
    "c=a//b\n",
    "print(c)"
   ]
  },
  {
   "cell_type": "code",
   "execution_count": 16,
   "id": "4a6aab83-1d3f-4879-948c-d2e060f37b33",
   "metadata": {},
   "outputs": [
    {
     "name": "stdout",
     "output_type": "stream",
     "text": [
      "125\n"
     ]
    }
   ],
   "source": [
    "#7. exponent\n",
    "c=a**b\n",
    "print(c)"
   ]
  },
  {
   "cell_type": "code",
   "execution_count": 18,
   "id": "7603358e-98f7-49f1-91bb-da586672db80",
   "metadata": {},
   "outputs": [
    {
     "name": "stdout",
     "output_type": "stream",
     "text": [
      "i am25\n"
     ]
    }
   ],
   "source": [
    "#mixing integers with strings\n",
    "#if you try to mix integers and string directly, python will complainage\n",
    "age=25\n",
    "print(\"i am\" + str(age))"
   ]
  },
  {
   "cell_type": "code",
   "execution_count": 19,
   "id": "faca096f-e2be-4346-9567-bb8bd5a90649",
   "metadata": {},
   "outputs": [
    {
     "name": "stdout",
     "output_type": "stream",
     "text": [
      "3.14 -2.5 0.0\n"
     ]
    }
   ],
   "source": [
    "#what is float\n",
    "#a float is a number that can have decimals\n",
    "x=3.14\n",
    "y=-2.5\n",
    "z=0.0\n",
    "print(x,y,z,)"
   ]
  },
  {
   "cell_type": "code",
   "execution_count": 21,
   "id": "bb8d9ccf-ea50-4a87-b851-fc0025e4b1e2",
   "metadata": {},
   "outputs": [
    {
     "name": "stdout",
     "output_type": "stream",
     "text": [
      "7.5\n",
      "3.5\n",
      "11.0\n",
      "2.75\n"
     ]
    }
   ],
   "source": [
    "#math with float works just like integers\n",
    "a=5.5\n",
    "b=2.0\n",
    "print(a+b)\n",
    "print(a-b)\n",
    "print(a*b)\n",
    "print(a/b)"
   ]
  },
  {
   "cell_type": "code",
   "execution_count": 22,
   "id": "b1e0bf92-5e0a-4a1b-a4a0-3c58d5524d50",
   "metadata": {},
   "outputs": [
    {
     "name": "stdout",
     "output_type": "stream",
     "text": [
      "10.0\n"
     ]
    }
   ],
   "source": [
    "#conveting between float and int\n",
    "#1. from int to float\n",
    "x=10\n",
    "y=float(x)\n",
    "print(y)"
   ]
  },
  {
   "cell_type": "code",
   "execution_count": 23,
   "id": "ddf053d5-710b-4bab-af33-f159a945883f",
   "metadata": {},
   "outputs": [
    {
     "name": "stdout",
     "output_type": "stream",
     "text": [
      "price is &19.99\n"
     ]
    }
   ],
   "source": [
    "#mixing with string (just like with int)\n",
    "price=19.99\n",
    "print(\"price is &\" +str(price))"
   ]
  },
  {
   "cell_type": "code",
   "execution_count": 24,
   "id": "6eeefb28-23b9-44fa-b15e-84593c60a19e",
   "metadata": {},
   "outputs": [
    {
     "name": "stdout",
     "output_type": "stream",
     "text": [
      "<class 'str'>\n",
      "<class 'int'>\n",
      "<class 'float'>\n"
     ]
    }
   ],
   "source": [
    "x=\"353e\"\n",
    "y=12\n",
    "z=-87.7e100\n",
    "print(type(x))\n",
    "print(type(y))\n",
    "print(type(z))"
   ]
  },
  {
   "cell_type": "code",
   "execution_count": 25,
   "id": "bd70a79a-6b15-4a66-aa24-cdd7bcb6e0ff",
   "metadata": {},
   "outputs": [
    {
     "name": "stdout",
     "output_type": "stream",
     "text": [
      "(3+4j)\n"
     ]
    }
   ],
   "source": [
    "#complex number look like this\n",
    "z=3+4j\n",
    "#3 is a real part\n",
    "#4j is the imaginary part(j is used instead of i like in math)\n",
    "#so z=3+4j represents\n",
    "#z=3+4j\n",
    "print(z)"
   ]
  },
  {
   "cell_type": "code",
   "execution_count": 26,
   "id": "a6377778-f165-425b-89be-04dc5c45e971",
   "metadata": {},
   "outputs": [
    {
     "name": "stdout",
     "output_type": "stream",
     "text": [
      "(3+4j)\n"
     ]
    }
   ],
   "source": [
    "#accesing real and imaginary parts\n",
    "z=3+4j\n",
    "print(z)"
   ]
  },
  {
   "cell_type": "code",
   "execution_count": 27,
   "id": "1ba9f436-7f02-4c50-a448-0021b50ea34b",
   "metadata": {},
   "outputs": [
    {
     "name": "stdout",
     "output_type": "stream",
     "text": [
      "(3+4j)\n",
      "(1+2j)\n",
      "(-1+5j)\n",
      "(2.5+0.5j)\n"
     ]
    }
   ],
   "source": [
    "#complex number math\n",
    "a=2+3j\n",
    "b=1+1j\n",
    "print(a+b)\n",
    "print(a-b)\n",
    "print(a*b)\n",
    "print(a/b)"
   ]
  },
  {
   "cell_type": "code",
   "execution_count": 28,
   "id": "34dfc358-3932-4afb-919e-f6790815c3b5",
   "metadata": {},
   "outputs": [
    {
     "name": "stdout",
     "output_type": "stream",
     "text": [
      "<class 'complex'>\n"
     ]
    }
   ],
   "source": [
    "#you can check the type\n",
    "z=5+2j\n",
    "print(type(z))"
   ]
  },
  {
   "cell_type": "code",
   "execution_count": 29,
   "id": "ccfe1179-d2ce-4e63-850f-463535dbefb3",
   "metadata": {},
   "outputs": [
    {
     "name": "stdout",
     "output_type": "stream",
     "text": [
      "(3+4j)\n"
     ]
    }
   ],
   "source": [
    "#you can even create complex number with the complex()function\n",
    "z=complex(3,4)\n",
    "print(z)"
   ]
  },
  {
   "cell_type": "code",
   "execution_count": 31,
   "id": "0a895df0-8418-4cc5-a45f-022db423dda9",
   "metadata": {},
   "outputs": [
    {
     "name": "stdout",
     "output_type": "stream",
     "text": [
      "['apple', 'banana', 'cherry']\n"
     ]
    }
   ],
   "source": [
    "#now working with a list in python- one of the most useful and flexible data type\n",
    "x=[\"apple\", \"banana\", \"cherry\"]\n",
    "print(x)"
   ]
  },
  {
   "cell_type": "code",
   "execution_count": 32,
   "id": "9584fa72-5f25-4c24-aa80-71fd6a40f7f6",
   "metadata": {},
   "outputs": [
    {
     "name": "stdout",
     "output_type": "stream",
     "text": [
      "apple\n",
      "banana\n",
      "cherry\n"
     ]
    }
   ],
   "source": [
    "#accesing item\n",
    "print(x[0])\n",
    "print(x[1])\n",
    "print(x[2])"
   ]
  },
  {
   "cell_type": "code",
   "execution_count": 34,
   "id": "833bb18a-3585-4033-a8d2-7059a1050043",
   "metadata": {},
   "outputs": [
    {
     "name": "stdout",
     "output_type": "stream",
     "text": [
      "['apple', 'orange', 'cherry']\n"
     ]
    }
   ],
   "source": [
    "#changing items\n",
    "x[1]=\"orange\"\n",
    "print(x)"
   ]
  },
  {
   "cell_type": "code",
   "execution_count": 35,
   "id": "bce1698b-7e75-4102-9e5c-3c3976917750",
   "metadata": {},
   "outputs": [
    {
     "name": "stdout",
     "output_type": "stream",
     "text": [
      "['apple', 'orange', 'cherry', 'grape']\n"
     ]
    }
   ],
   "source": [
    "#adding items\n",
    "x.append(\"grape\") #adds at the end\n",
    "print(x)"
   ]
  },
  {
   "cell_type": "code",
   "execution_count": 38,
   "id": "80d78228-7220-4846-8998-5381450de3f4",
   "metadata": {},
   "outputs": [
    {
     "name": "stdout",
     "output_type": "stream",
     "text": [
      "['apple', 'kiwi', 'orange', 'cherry', 'grape']\n"
     ]
    }
   ],
   "source": [
    "#insert at a position\n",
    "x.insert(1,\"kiwi\")\n",
    "print(x)"
   ]
  },
  {
   "cell_type": "code",
   "execution_count": 39,
   "id": "b2a679d3-8f5e-4e83-946e-7d84582cdd54",
   "metadata": {},
   "outputs": [],
   "source": [
    "#removing items\n",
    "x.remove(\"orange\") #removes by value\n",
    "x.pop()            #removes the last time\n",
    "del x[0]           #removes by index"
   ]
  },
  {
   "cell_type": "code",
   "execution_count": null,
   "id": "509cadee-b1bf-4347-9a2c-07a271992d2d",
   "metadata": {},
   "outputs": [],
   "source": []
  },
  {
   "cell_type": "code",
   "execution_count": null,
   "id": "5ad10bed-d3b9-47c2-8bc4-061daa9add63",
   "metadata": {},
   "outputs": [],
   "source": []
  }
 ],
 "metadata": {
  "kernelspec": {
   "display_name": "Python 3 (ipykernel)",
   "language": "python",
   "name": "python3"
  },
  "language_info": {
   "codemirror_mode": {
    "name": "ipython",
    "version": 3
   },
   "file_extension": ".py",
   "mimetype": "text/x-python",
   "name": "python",
   "nbconvert_exporter": "python",
   "pygments_lexer": "ipython3",
   "version": "3.12.4"
  }
 },
 "nbformat": 4,
 "nbformat_minor": 5
}
