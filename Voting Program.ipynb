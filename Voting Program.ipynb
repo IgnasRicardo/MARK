{
 "cells": [
  {
   "cell_type": "code",
   "execution_count": 3,
   "id": "4409866a-358e-4712-a1c6-19b2f896b47e",
   "metadata": {},
   "outputs": [
    {
     "name": "stdout",
     "output_type": "stream",
     "text": [
      "<class 'int'>\n"
     ]
    }
   ],
   "source": [
    "import datetime\n",
    "\n",
    "x = datetime.datetime.now()\n",
    "print(type(x.year))"
   ]
  },
  {
   "cell_type": "code",
   "execution_count": 8,
   "id": "eccef347-e7eb-43a4-b7ea-0ff76f2d1800",
   "metadata": {},
   "outputs": [
    {
     "name": "stdin",
     "output_type": "stream",
     "text": [
      "Enter Year of Birth:  2000\n"
     ]
    },
    {
     "name": "stdout",
     "output_type": "stream",
     "text": [
      "You are 25\n",
      "You are allowed to vote\n"
     ]
    }
   ],
   "source": [
    "import datetime\n",
    "\n",
    "x = datetime.datetime.now()\n",
    "current_year = x.year\n",
    "\n",
    "birth_year = int(input(\"Enter Year of Birth: \"))\n",
    "age = current_year - birth_year\n",
    "\n",
    "print(f\"You are {age}\")\n",
    "\n",
    "if age >= 18 :\n",
    "    print(\"You are allowed to vote\")\n",
    "else:\n",
    "    print(\"You are not allowed to vote\")\n"
   ]
  },
  {
   "cell_type": "code",
   "execution_count": null,
   "id": "68f3932d-a34a-4c28-86ab-1eb67ab6e68f",
   "metadata": {},
   "outputs": [],
   "source": []
  }
 ],
 "metadata": {
  "kernelspec": {
   "display_name": "Python 3 (ipykernel)",
   "language": "python",
   "name": "python3"
  },
  "language_info": {
   "codemirror_mode": {
    "name": "ipython",
    "version": 3
   },
   "file_extension": ".py",
   "mimetype": "text/x-python",
   "name": "python",
   "nbconvert_exporter": "python",
   "pygments_lexer": "ipython3",
   "version": "3.12.4"
  }
 },
 "nbformat": 4,
 "nbformat_minor": 5
}
