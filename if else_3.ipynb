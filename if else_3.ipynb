{
 "cells": [
  {
   "cell_type": "code",
   "execution_count": 3,
   "id": "85346110-139e-43e8-88e1-5102962ff2c3",
   "metadata": {},
   "outputs": [
    {
     "name": "stdin",
     "output_type": "stream",
     "text": [
      "enter age 10\n"
     ]
    },
    {
     "name": "stdout",
     "output_type": "stream",
     "text": [
      "priority treatment\n"
     ]
    }
   ],
   "source": [
    "age=(int(input(\"enter age\")))\n",
    "if age<=12:\n",
    "    print(\"priority treatment\")\n",
    "else:\n",
    "    print(\"regular treatment\")"
   ]
  },
  {
   "cell_type": "code",
   "execution_count": 13,
   "id": "8364bac7-704a-422e-b8aa-2b5f74c07e2b",
   "metadata": {},
   "outputs": [
    {
     "name": "stdout",
     "output_type": "stream",
     "text": [
      "2025-06-05 21:05:01.449148\n"
     ]
    }
   ],
   "source": [
    "import datetime\n",
    "today=datetime.datetime.now()\n",
    "print(today)"
   ]
  },
  {
   "cell_type": "code",
   "execution_count": 15,
   "id": "bdbfb7c5-d7a6-472f-8d00-b6c827dfeae3",
   "metadata": {},
   "outputs": [
    {
     "name": "stdin",
     "output_type": "stream",
     "text": [
      "enter illness malaria\n",
      "enter age 22\n"
     ]
    },
    {
     "name": "stdout",
     "output_type": "stream",
     "text": [
      "normal treatment\n"
     ]
    }
   ],
   "source": [
    "emergency=(\"corona\",\"tb\",\"diabet\")\n",
    "illness=(str(input(\"enter illness\")))\n",
    "age=(int(input(\"enter age\")))\n",
    "if illness in emergency and age <=12 or age>=65:\n",
    "    print(\"quick treatment\")\n",
    "else:\n",
    "    print(\"normal treatment\")"
   ]
  },
  {
   "cell_type": "code",
   "execution_count": null,
   "id": "12defd27-0352-4ee5-bbc8-8f9fc7aad51f",
   "metadata": {},
   "outputs": [],
   "source": []
  }
 ],
 "metadata": {
  "kernelspec": {
   "display_name": "Python 3 (ipykernel)",
   "language": "python",
   "name": "python3"
  },
  "language_info": {
   "codemirror_mode": {
    "name": "ipython",
    "version": 3
   },
   "file_extension": ".py",
   "mimetype": "text/x-python",
   "name": "python",
   "nbconvert_exporter": "python",
   "pygments_lexer": "ipython3",
   "version": "3.12.7"
  }
 },
 "nbformat": 4,
 "nbformat_minor": 5
}
